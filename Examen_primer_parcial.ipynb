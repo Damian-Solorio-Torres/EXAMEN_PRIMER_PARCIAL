{
  "nbformat": 4,
  "nbformat_minor": 0,
  "metadata": {
    "colab": {
      "name": "Examen_primer_parcial.ipynb",
      "provenance": [],
      "collapsed_sections": []
    },
    "kernelspec": {
      "name": "python3",
      "display_name": "Python 3"
    }
  },
  "cells": [
    {
      "cell_type": "markdown",
      "metadata": {
        "id": "nxzy2ezuRvv3"
      },
      "source": [
        "#1.- Escribir un programa que calcule las raíces de: \n",
        "\n",
        "    ax¨2+bx+c=0------------(1)\n",
        "#Esto lo puede hacer con la ecuacion general de segundo oreden. Si el discriminante es negativo, entonces debe de imprimir error, el discriminante tiene que ser positivo y debe de volver a leer los valores de los coeficientes a, b y c, esto se debe de ciclar hasta que el discriminante sea positivo.\n"
      ]
    },
    {
      "cell_type": "code",
      "metadata": {
        "id": "wLxSAVhLP0fp"
      },
      "source": [
        "a=float (input(\"introduzca el valor de a: \"))\n",
        "while a==0:\n",
        "  print(\"El discriminante debe de ser positivo!!\")\n",
        "  a= int (input(\"Por favor introduzca un valor diferente de 0:\"))\n",
        "b=float (input(\"introduzca el valor de b \"))\n",
        "c=float (input(\"introduzca el valor de c: \"))\n",
        "print(\"\\n\")\n",
        "print(\"Buscando solucion a: \",a,\"x¨2\",\"+\",b,\"x\",\"+\",c)\n",
        "\n",
        "print(\"\\n\")\n",
        "if a!=0:\n",
        "  x1=(-b+(((b**2)-4*a*c)**0.5))/(2*a)\n",
        "  x2=(-b-(((b**2)-4*a*c)**0.5))/(2*a)\n",
        "  print(\"El primer valor de x es: \",x1)\n",
        "  print(\"El segundo valor de x es: \",x2)\n",
        "\n",
        " \n"
      ],
      "execution_count": null,
      "outputs": []
    },
    {
      "cell_type": "markdown",
      "metadata": {
        "id": "UdIq-2M9lkZy"
      },
      "source": [
        "#2.-Sea la función\n",
        "    f(x) = e¨−x\n",
        "#Realizar un función que acepte como argumento el valor de x, que calcule el valor de f(x) y que lo regrese a la función principal. En el programa principal, debe de hacer un bucle que ayude a evaluar la función con valores desde -4 hasta 10 y que pare el bucle cuando el valor e f(x) sea menor que 0.0025, Guardar en una lista el valor de las iteraciones conforme van pasando. Pistas: Debes de utilizar el bucle while con un contador que comienza en -4 y debe de ir sumando en uno.La lista vacía se declara con miLista=[] y cada que quieras agregar algún elemento te conviene utilizar .append(valor). puedes declarar e = 2.7182818284 como una variable y después hacer la matemática correspondiente."
      ]
    },
    {
      "cell_type": "code",
      "metadata": {
        "id": "nS7nENKwmZ1L"
      },
      "source": [
        "def Exp(x):\n",
        "  MiLista=[-5,10]\n",
        "  cont= MiLista[0]\n",
        "  while cont<MiLista[1]:\n",
        "    cont=cont+1\n",
        "    print(\"f(\",cont,\") =\")\n",
        "    e=2.7182818284\n",
        "    fx=e**-cont\n",
        "    print(fx)\n",
        "    if fx<0.0025:\n",
        "      break\n",
        "Exp(x)\n",
        "\n",
        "\n",
        "\n"
      ],
      "execution_count": null,
      "outputs": []
    }
  ]
}